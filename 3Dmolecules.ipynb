{
 "cells": [
  {
   "cell_type": "code",
   "execution_count": 5,
   "id": "48682181-aa90-46e9-8178-384101b884a0",
   "metadata": {},
   "outputs": [
    {
     "name": "stdout",
     "output_type": "stream",
     "text": [
      "Molecule Image saved as Toulene.png\n"
     ]
    },
    {
     "data": {
      "text/html": [
       "<div id=\"3dmolviewer_1740856066411158\"  style=\"position: relative; width: 500px; height: 500px;\">\n",
       "        <p id=\"3dmolwarning_1740856066411158\" style=\"background-color:#ffcccc;color:black\">3Dmol.js failed to load for some reason.  Please check your browser console for error messages.<br></p>\n",
       "        </div>\n",
       "<script>\n",
       "\n",
       "var loadScriptAsync = function(uri){\n",
       "  return new Promise((resolve, reject) => {\n",
       "    //this is to ignore the existence of requirejs amd\n",
       "    var savedexports, savedmodule;\n",
       "    if (typeof exports !== 'undefined') savedexports = exports;\n",
       "    else exports = {}\n",
       "    if (typeof module !== 'undefined') savedmodule = module;\n",
       "    else module = {}\n",
       "\n",
       "    var tag = document.createElement('script');\n",
       "    tag.src = uri;\n",
       "    tag.async = true;\n",
       "    tag.onload = () => {\n",
       "        exports = savedexports;\n",
       "        module = savedmodule;\n",
       "        resolve();\n",
       "    };\n",
       "  var firstScriptTag = document.getElementsByTagName('script')[0];\n",
       "  firstScriptTag.parentNode.insertBefore(tag, firstScriptTag);\n",
       "});\n",
       "};\n",
       "\n",
       "if(typeof $3Dmolpromise === 'undefined') {\n",
       "$3Dmolpromise = null;\n",
       "  $3Dmolpromise = loadScriptAsync('https://cdnjs.cloudflare.com/ajax/libs/3Dmol/2.4.2/3Dmol-min.js');\n",
       "}\n",
       "\n",
       "var viewer_1740856066411158 = null;\n",
       "var warn = document.getElementById(\"3dmolwarning_1740856066411158\");\n",
       "if(warn) {\n",
       "    warn.parentNode.removeChild(warn);\n",
       "}\n",
       "$3Dmolpromise.then(function() {\n",
       "viewer_1740856066411158 = $3Dmol.createViewer(document.getElementById(\"3dmolviewer_1740856066411158\"),{backgroundColor:\"white\"});\n",
       "viewer_1740856066411158.zoomTo();\n",
       "\tviewer_1740856066411158.addModel(\"\\n     RDKit          3D\\n\\n 15 15  0  0  0  0  0  0  0  0999 V2000\\n    2.1518    0.1160   -0.1323 C   0  0  0  0  0  0  0  0  0  0  0  0\\n    0.6856    0.0168   -0.0472 C   0  0  0  0  0  0  0  0  0  0  0  0\\n    0.0568   -1.1765   -0.3245 C   0  0  0  0  0  0  0  0  0  0  0  0\\n   -1.3136   -1.2199   -0.2315 C   0  0  0  0  0  0  0  0  0  0  0  0\\n   -2.0196   -0.0912    0.1302 C   0  0  0  0  0  0  0  0  0  0  0  0\\n   -1.3876    1.1210    0.4124 C   0  0  0  0  0  0  0  0  0  0  0  0\\n   -0.0115    1.1573    0.3171 C   0  0  0  0  0  0  0  0  0  0  0  0\\n    2.5065   -0.6745   -0.8259 H   0  0  0  0  0  0  0  0  0  0  0  0\\n    2.6533   -0.1002    0.8381 H   0  0  0  0  0  0  0  0  0  0  0  0\\n    2.4914    1.1153   -0.5120 H   0  0  0  0  0  0  0  0  0  0  0  0\\n    0.6323   -2.0421   -0.6046 H   0  0  0  0  0  0  0  0  0  0  0  0\\n   -1.8251   -2.1477   -0.4454 H   0  0  0  0  0  0  0  0  0  0  0  0\\n   -3.1159   -0.1814    0.1895 H   0  0  0  0  0  0  0  0  0  0  0  0\\n   -1.9719    2.0056    0.6983 H   0  0  0  0  0  0  0  0  0  0  0  0\\n    0.4675    2.1014    0.5379 H   0  0  0  0  0  0  0  0  0  0  0  0\\n  1  2  1  0\\n  2  3  2  0\\n  3  4  1  0\\n  4  5  2  0\\n  5  6  1  0\\n  6  7  2  0\\n  7  2  1  0\\n  1  8  1  0\\n  1  9  1  0\\n  1 10  1  0\\n  3 11  1  0\\n  4 12  1  0\\n  5 13  1  0\\n  6 14  1  0\\n  7 15  1  0\\nM  END\\n\",\"mol\");\n",
       "\tviewer_1740856066411158.setStyle({\"stick\": {}});\n",
       "\tviewer_1740856066411158.zoomTo();\n",
       "viewer_1740856066411158.render();\n",
       "});\n",
       "</script>"
      ],
      "text/plain": [
       "<IPython.core.display.HTML object>"
      ]
     },
     "metadata": {},
     "output_type": "display_data"
    }
   ],
   "source": [
    "from SMILEVisualiser3D import smiles_chem_png\n",
    "smiles_chem_png(\"CC1=CC=CC=C1\", \"Toulene.png\", show=True, view3d=True)"
   ]
  },
  {
   "cell_type": "code",
   "execution_count": null,
   "id": "df1cf000-8d7d-4579-92a6-8df98914e049",
   "metadata": {},
   "outputs": [],
   "source": []
  }
 ],
 "metadata": {
  "kernelspec": {
   "display_name": "Python 3 (ipykernel)",
   "language": "python",
   "name": "python3"
  },
  "language_info": {
   "codemirror_mode": {
    "name": "ipython",
    "version": 3
   },
   "file_extension": ".py",
   "mimetype": "text/x-python",
   "name": "python",
   "nbconvert_exporter": "python",
   "pygments_lexer": "ipython3",
   "version": "3.13.0"
  }
 },
 "nbformat": 4,
 "nbformat_minor": 5
}
